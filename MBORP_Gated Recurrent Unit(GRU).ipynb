{
 "cells": [
  {
   "cell_type": "markdown",
   "id": "95f0be43",
   "metadata": {},
   "source": [
    "# MOVIE BOX OFFICE REVENUE PREDICTION\n",
    "\n",
    "## Bawandeep Singh Saimbi\n"
   ]
  },
  {
   "cell_type": "code",
   "execution_count": 14,
   "id": "42c41bbb",
   "metadata": {},
   "outputs": [],
   "source": [
    "import pandas as pd\n",
    "import numpy as np\n",
    "import torch\n",
    "import torch.nn as nn\n",
    "import torch.optim as optim\n",
    "from torch.utils.data import DataLoader, TensorDataset\n",
    "from sklearn.model_selection import train_test_split\n",
    "from sklearn.preprocessing import StandardScaler\n",
    "from sklearn.metrics import mean_squared_error, r2_score\n",
    "\n",
    "\n"
   ]
  },
  {
   "cell_type": "code",
   "execution_count": 15,
   "id": "fd91b1cd",
   "metadata": {},
   "outputs": [],
   "source": [
    "train_data = pd.read_csv('train.csv')\n",
    "test_data = pd.read_csv('test.csv')\n",
    "\n"
   ]
  },
  {
   "cell_type": "code",
   "execution_count": 16,
   "id": "ce6ed9a5",
   "metadata": {},
   "outputs": [],
   "source": [
    "y = train_data['revenue'].values\n",
    "train_data = train_data.drop(['revenue'], axis=1)\n"
   ]
  },
  {
   "cell_type": "code",
   "execution_count": 17,
   "id": "6d4238ed",
   "metadata": {},
   "outputs": [],
   "source": [
    "combined_data = pd.concat([train_data, test_data], ignore_index=True)\n",
    "\n",
    "numeric_features = combined_data.select_dtypes(include=[np.number])\n",
    "numeric_features.fillna(numeric_features.mean(), inplace=True)\n",
    "scaler = StandardScaler()\n",
    "numeric_features = scaler.fit_transform(numeric_features)\n",
    "\n"
   ]
  },
  {
   "cell_type": "code",
   "execution_count": 18,
   "id": "8410ab51",
   "metadata": {},
   "outputs": [],
   "source": [
    "X = torch.Tensor(numeric_features)\n",
    "X_train, X_val, y_train, y_val = train_test_split(X[:len(y)], y, test_size=0.2, random_state=42)\n",
    "\n"
   ]
  },
  {
   "cell_type": "code",
   "execution_count": 19,
   "id": "83c416de",
   "metadata": {},
   "outputs": [],
   "source": [
    "class GRUModel(nn.Module):\n",
    "    def __init__(self, input_size, hidden_size, num_layers):\n",
    "        super(GRUModel, self).__init__()\n",
    "        self.gru = nn.GRU(input_size, hidden_size, num_layers, batch_first=True)\n",
    "        self.fc = nn.Linear(hidden_size, 1)\n",
    "\n",
    "    def forward(self, x):\n",
    "        out, _ = self.gru(x.unsqueeze(1))  \n",
    "        out = self.fc(out[:, -1, :]) \n",
    "        return out\n",
    "\n"
   ]
  },
  {
   "cell_type": "code",
   "execution_count": 20,
   "id": "75beaeee",
   "metadata": {},
   "outputs": [
    {
     "name": "stdout",
     "output_type": "stream",
     "text": [
      "GRU Epoch [1/100], Loss: 7886220306677760.0, Validation Loss: 2.186726549435187e+16\n",
      "GRU Epoch [2/100], Loss: 2.143102566609715e+16, Validation Loss: 2.1867263346868224e+16\n",
      "GRU Epoch [3/100], Loss: 1.5370255580790784e+16, Validation Loss: 2.1867263346868224e+16\n",
      "GRU Epoch [4/100], Loss: 7393231612411904.0, Validation Loss: 2.1867263346868224e+16\n",
      "GRU Epoch [5/100], Loss: 7775573896069120.0, Validation Loss: 2.186725905190093e+16\n",
      "GRU Epoch [6/100], Loss: 9823153920409600.0, Validation Loss: 2.186725905190093e+16\n",
      "GRU Epoch [7/100], Loss: 3434005668036608.0, Validation Loss: 2.186725905190093e+16\n",
      "GRU Epoch [8/100], Loss: 8968814595145728.0, Validation Loss: 2.186725690441728e+16\n",
      "GRU Epoch [9/100], Loss: 1.900677647302656e+16, Validation Loss: 2.186725690441728e+16\n",
      "GRU Epoch [10/100], Loss: 2.374541603818701e+16, Validation Loss: 2.186725690441728e+16\n",
      "GRU Epoch [11/100], Loss: 3.0544922645889024e+16, Validation Loss: 2.186725690441728e+16\n",
      "GRU Epoch [12/100], Loss: 1.990407889302323e+16, Validation Loss: 2.186725690441728e+16\n",
      "GRU Epoch [13/100], Loss: 2.260717024785203e+16, Validation Loss: 2.186725690441728e+16\n",
      "GRU Epoch [14/100], Loss: 5932888507809792.0, Validation Loss: 2.186725690441728e+16\n",
      "GRU Epoch [15/100], Loss: 6.219310213103616e+16, Validation Loss: 2.186725475693363e+16\n",
      "GRU Epoch [16/100], Loss: 5.222287671925146e+16, Validation Loss: 2.186725475693363e+16\n",
      "GRU Epoch [17/100], Loss: 1.8065508620304384e+16, Validation Loss: 2.186725475693363e+16\n",
      "GRU Epoch [18/100], Loss: 7205181838065664.0, Validation Loss: 2.186725475693363e+16\n",
      "GRU Epoch [19/100], Loss: 1.6124271449341952e+16, Validation Loss: 2.1867252609449984e+16\n",
      "GRU Epoch [20/100], Loss: 2930465849737216.0, Validation Loss: 2.186724831448269e+16\n",
      "GRU Epoch [21/100], Loss: 2.094750898533171e+16, Validation Loss: 2.186724831448269e+16\n",
      "GRU Epoch [22/100], Loss: 6394070821765120.0, Validation Loss: 2.186724831448269e+16\n",
      "GRU Epoch [23/100], Loss: 1.9257048512331776e+16, Validation Loss: 2.186724831448269e+16\n",
      "GRU Epoch [24/100], Loss: 4712955660730368.0, Validation Loss: 2.186724831448269e+16\n",
      "GRU Epoch [25/100], Loss: 3.3817202394136576e+16, Validation Loss: 2.186724401951539e+16\n",
      "GRU Epoch [26/100], Loss: 1.774108182315008e+16, Validation Loss: 2.186724401951539e+16\n",
      "GRU Epoch [27/100], Loss: 1.5917382874693632e+16, Validation Loss: 2.186724401951539e+16\n",
      "GRU Epoch [28/100], Loss: 8624853749858304.0, Validation Loss: 2.186724401951539e+16\n",
      "GRU Epoch [29/100], Loss: 2.2362825263415296e+16, Validation Loss: 2.186724401951539e+16\n",
      "GRU Epoch [30/100], Loss: 1.9313529479757824e+16, Validation Loss: 2.1867241872031744e+16\n",
      "GRU Epoch [31/100], Loss: 2.136578726035456e+16, Validation Loss: 2.1867241872031744e+16\n",
      "GRU Epoch [32/100], Loss: 4981353535766528.0, Validation Loss: 2.1867241872031744e+16\n",
      "GRU Epoch [33/100], Loss: 2.823094029569229e+16, Validation Loss: 2.186723757706445e+16\n",
      "GRU Epoch [34/100], Loss: 5.210539647880397e+16, Validation Loss: 2.186723757706445e+16\n",
      "GRU Epoch [35/100], Loss: 1.6917220122689536e+16, Validation Loss: 2.186723757706445e+16\n",
      "GRU Epoch [36/100], Loss: 3.108388091199488e+16, Validation Loss: 2.186723757706445e+16\n",
      "GRU Epoch [37/100], Loss: 4.113288461392282e+16, Validation Loss: 2.186723757706445e+16\n",
      "GRU Epoch [38/100], Loss: 1.0929401130647552e+16, Validation Loss: 2.186723757706445e+16\n",
      "GRU Epoch [39/100], Loss: 6555433279946752.0, Validation Loss: 2.18672354295808e+16\n",
      "GRU Epoch [40/100], Loss: 8929063062208512.0, Validation Loss: 2.18672354295808e+16\n",
      "GRU Epoch [41/100], Loss: 1.2238174302502912e+16, Validation Loss: 2.18672354295808e+16\n",
      "GRU Epoch [42/100], Loss: 2.3696683191762944e+16, Validation Loss: 2.18672354295808e+16\n",
      "GRU Epoch [43/100], Loss: 3.99631674507264e+16, Validation Loss: 2.18672354295808e+16\n",
      "GRU Epoch [44/100], Loss: 6.228385479000064e+16, Validation Loss: 2.186723328209715e+16\n",
      "GRU Epoch [45/100], Loss: 4.229480641147699e+16, Validation Loss: 2.1867231134613504e+16\n",
      "GRU Epoch [46/100], Loss: 2.3432413854040064e+16, Validation Loss: 2.1867231134613504e+16\n",
      "GRU Epoch [47/100], Loss: 2.282611694318387e+16, Validation Loss: 2.1867231134613504e+16\n",
      "GRU Epoch [48/100], Loss: 1.3741948653273088e+16, Validation Loss: 2.1867231134613504e+16\n",
      "GRU Epoch [49/100], Loss: 1.0452156175876096e+16, Validation Loss: 2.1867231134613504e+16\n",
      "GRU Epoch [50/100], Loss: 9649497655214080.0, Validation Loss: 2.1867231134613504e+16\n",
      "GRU Epoch [51/100], Loss: 1.549336437587968e+16, Validation Loss: 2.1867231134613504e+16\n",
      "GRU Epoch [52/100], Loss: 1.0215769765838848e+16, Validation Loss: 2.186722683964621e+16\n",
      "GRU Epoch [53/100], Loss: 8332815301083136.0, Validation Loss: 2.186722683964621e+16\n",
      "GRU Epoch [54/100], Loss: 5916152093999104.0, Validation Loss: 2.186722469216256e+16\n",
      "GRU Epoch [55/100], Loss: 6813221512019968.0, Validation Loss: 2.186722469216256e+16\n",
      "GRU Epoch [56/100], Loss: 5.361194645218918e+16, Validation Loss: 2.186722469216256e+16\n",
      "GRU Epoch [57/100], Loss: 1.1723888476028928e+16, Validation Loss: 2.1867220397195264e+16\n",
      "GRU Epoch [58/100], Loss: 8777724520824832.0, Validation Loss: 2.1867220397195264e+16\n",
      "GRU Epoch [59/100], Loss: 8.65217897604055e+16, Validation Loss: 2.1867220397195264e+16\n",
      "GRU Epoch [60/100], Loss: 6179217230266368.0, Validation Loss: 2.1867220397195264e+16\n",
      "GRU Epoch [61/100], Loss: 3267468848005120.0, Validation Loss: 2.1867220397195264e+16\n",
      "GRU Epoch [62/100], Loss: 3.713659363865395e+16, Validation Loss: 2.1867220397195264e+16\n",
      "GRU Epoch [63/100], Loss: 2.871913849081037e+16, Validation Loss: 2.1867218249711616e+16\n",
      "GRU Epoch [64/100], Loss: 8.082142326580838e+16, Validation Loss: 2.1867218249711616e+16\n",
      "GRU Epoch [65/100], Loss: 4.374601143628595e+16, Validation Loss: 2.1867218249711616e+16\n",
      "GRU Epoch [66/100], Loss: 9599543964336128.0, Validation Loss: 2.1867218249711616e+16\n",
      "GRU Epoch [67/100], Loss: 1.4793578911891456e+16, Validation Loss: 2.1867218249711616e+16\n",
      "GRU Epoch [68/100], Loss: 3.531846955774771e+16, Validation Loss: 2.1867218249711616e+16\n",
      "GRU Epoch [69/100], Loss: 2866599686045696.0, Validation Loss: 2.1867218249711616e+16\n",
      "GRU Epoch [70/100], Loss: 987521227948032.0, Validation Loss: 2.186721610222797e+16\n",
      "GRU Epoch [71/100], Loss: 7547832718327808.0, Validation Loss: 2.186721610222797e+16\n",
      "GRU Epoch [72/100], Loss: 6384152131665920.0, Validation Loss: 2.186721610222797e+16\n",
      "GRU Epoch [73/100], Loss: 8942565902516224.0, Validation Loss: 2.186721180726067e+16\n",
      "GRU Epoch [74/100], Loss: 2.2139864921145344e+16, Validation Loss: 2.186721180726067e+16\n",
      "GRU Epoch [75/100], Loss: 1.2832153247154176e+16, Validation Loss: 2.186721180726067e+16\n",
      "GRU Epoch [76/100], Loss: 6237600331333632.0, Validation Loss: 2.1867209659777024e+16\n",
      "GRU Epoch [77/100], Loss: 4.428903274145382e+16, Validation Loss: 2.1867209659777024e+16\n",
      "GRU Epoch [78/100], Loss: 1.6756754775801856e+16, Validation Loss: 2.1867209659777024e+16\n",
      "GRU Epoch [79/100], Loss: 5562023450509312.0, Validation Loss: 2.1867209659777024e+16\n",
      "GRU Epoch [80/100], Loss: 4909986211692544.0, Validation Loss: 2.1867209659777024e+16\n",
      "GRU Epoch [81/100], Loss: 1.3940319234031616e+16, Validation Loss: 2.186720536480973e+16\n",
      "GRU Epoch [82/100], Loss: 1.454470810566656e+16, Validation Loss: 2.186720536480973e+16\n",
      "GRU Epoch [83/100], Loss: 5.587916519846707e+16, Validation Loss: 2.186720536480973e+16\n",
      "GRU Epoch [84/100], Loss: 9001517549879296.0, Validation Loss: 2.186720536480973e+16\n",
      "GRU Epoch [85/100], Loss: 7183463799062528.0, Validation Loss: 2.186720536480973e+16\n",
      "GRU Epoch [86/100], Loss: 1.0696092064677888e+16, Validation Loss: 2.186720536480973e+16\n",
      "GRU Epoch [87/100], Loss: 7.813771295090278e+16, Validation Loss: 2.186720321732608e+16\n",
      "GRU Epoch [88/100], Loss: 3.632999448549786e+16, Validation Loss: 2.186720321732608e+16\n",
      "GRU Epoch [89/100], Loss: 1.4110741388853248e+16, Validation Loss: 2.186720106984243e+16\n",
      "GRU Epoch [90/100], Loss: 4.214212032410419e+16, Validation Loss: 2.186720106984243e+16\n",
      "GRU Epoch [91/100], Loss: 4273899944542208.0, Validation Loss: 2.186720106984243e+16\n",
      "GRU Epoch [92/100], Loss: 1889524959412224.0, Validation Loss: 2.186720106984243e+16\n",
      "GRU Epoch [93/100], Loss: 6.980488369117594e+16, Validation Loss: 2.186720106984243e+16\n",
      "GRU Epoch [94/100], Loss: 3.680079591558349e+16, Validation Loss: 2.186720106984243e+16\n"
     ]
    },
    {
     "name": "stdout",
     "output_type": "stream",
     "text": [
      "GRU Epoch [95/100], Loss: 8210783469043712.0, Validation Loss: 2.1867198922358784e+16\n",
      "GRU Epoch [96/100], Loss: 6591310215512064.0, Validation Loss: 2.1867198922358784e+16\n",
      "GRU Epoch [97/100], Loss: 2.541507168960512e+16, Validation Loss: 2.186719247990784e+16\n",
      "GRU Epoch [98/100], Loss: 1.593444677976064e+16, Validation Loss: 2.186719247990784e+16\n",
      "GRU Epoch [99/100], Loss: 1.3837188479320064e+16, Validation Loss: 2.186719247990784e+16\n",
      "GRU Epoch [100/100], Loss: 1.903751770144768e+16, Validation Loss: 2.186719247990784e+16\n"
     ]
    }
   ],
   "source": [
    "input_size = X_train.shape[1]\n",
    "hidden_size = 128\n",
    "num_layers = 2\n",
    "\n",
    "gru_model = GRUModel(input_size, hidden_size, num_layers)\n",
    "\n",
    "criterion = nn.MSELoss()\n",
    "optimizer_gru = optim.Adam(gru_model.parameters(), lr=0.001)\n",
    "\n",
    "num_epochs = 100\n",
    "batch_size = 64\n",
    "\n",
    "train_dataset = TensorDataset(X_train, torch.Tensor(y_train))\n",
    "train_loader = DataLoader(train_dataset, batch_size=batch_size, shuffle=True)\n",
    "\n",
    "for epoch in range(num_epochs):\n",
    "    gru_model.train()\n",
    "    for inputs, targets in train_loader:\n",
    "        optimizer_gru.zero_grad()\n",
    "        outputs = gru_model(inputs)\n",
    "        loss = criterion(outputs, targets.view(-1, 1))\n",
    "        loss.backward()\n",
    "        optimizer_gru.step()\n",
    "\n",
    "    gru_model.eval()\n",
    "    with torch.no_grad():\n",
    "        val_outputs = gru_model(X_val)\n",
    "        val_loss = criterion(val_outputs, torch.Tensor(y_val).view(-1, 1))\n",
    "\n",
    "    print(f'GRU Epoch [{epoch + 1}/{num_epochs}], Loss: {loss.item()}, Validation Loss: {val_loss.item()}')\n",
    "\n",
    "\n",
    "\n"
   ]
  },
  {
   "cell_type": "code",
   "execution_count": 21,
   "id": "78ab3249",
   "metadata": {},
   "outputs": [
    {
     "name": "stdout",
     "output_type": "stream",
     "text": [
      "Validation Metrics for GRU:\n",
      "MSE: 2.1867195180431204e+16\n",
      "R-squared (R2): -0.30007910607467414\n"
     ]
    }
   ],
   "source": [
    "with torch.no_grad():\n",
    "    val_outputs_gru = gru_model(X_val)\n",
    "\n",
    "val_predictions_gru = val_outputs_gru.numpy().flatten()\n",
    "\n",
    "mse_gru = mean_squared_error(y_val, val_predictions_gru)\n",
    "r2_gru = r2_score(y_val, val_predictions_gru)\n",
    "\n",
    "print('Validation Metrics for GRU:')\n",
    "print(f'MSE: {mse_gru}')\n",
    "print(f'R-squared (R2): {r2_gru}')"
   ]
  },
  {
   "cell_type": "code",
   "execution_count": null,
   "id": "1a878362",
   "metadata": {},
   "outputs": [],
   "source": []
  },
  {
   "cell_type": "code",
   "execution_count": null,
   "id": "7cab13c6",
   "metadata": {},
   "outputs": [],
   "source": []
  }
 ],
 "metadata": {
  "kernelspec": {
   "display_name": "Python 3 (ipykernel)",
   "language": "python",
   "name": "python3"
  },
  "language_info": {
   "codemirror_mode": {
    "name": "ipython",
    "version": 3
   },
   "file_extension": ".py",
   "mimetype": "text/x-python",
   "name": "python",
   "nbconvert_exporter": "python",
   "pygments_lexer": "ipython3",
   "version": "3.9.13"
  }
 },
 "nbformat": 4,
 "nbformat_minor": 5
}
